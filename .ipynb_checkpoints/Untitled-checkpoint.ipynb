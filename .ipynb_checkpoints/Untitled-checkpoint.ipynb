{
 "cells": [
  {
   "cell_type": "code",
   "execution_count": null,
   "metadata": {},
   "outputs": [],
   "source": [
    "fig = px.bar(df, x='Marca', y='Global_Sales',\n",
    "            hover_data=['NA_Sales', 'EU_Sales', 'JP_Sales', 'Other_Sales'],\n",
    "            animation_frame='Year_of_Release',\n",
    "            animation_group='Marca',\n",
    "            log_x=True\n",
    "            )\n",
    "\n",
    "fig[\"layout\"].pop('updatemenus')\n",
    "fig.show()"
   ]
  },
  {
   "cell_type": "code",
   "execution_count": null,
   "metadata": {},
   "outputs": [],
   "source": [
    "import plotly.graph_objects as go"
   ]
  },
  {
   "cell_type": "code",
   "execution_count": null,
   "metadata": {},
   "outputs": [],
   "source": [
    "fig2 = go.Figure()\n",
    "\n",
    "for step "
   ]
  },
  {
   "cell_type": "code",
   "execution_count": null,
   "metadata": {},
   "outputs": [],
   "source": [
    "top_marcas = ['Xbox', 'Nintendo', 'PlayStation', 'SEGA', 'Atari']\n",
    "perc = df.loc[:,[\"Year_of_Release\",\"Marca\",'Global_Sales']]\n",
    "perc['total_sales'] = perc.groupby([perc.Marca, perc.Year_of_Release])['Global_Sales'].transform('sum')\n",
    "perc.drop('Global_Sales', axis=1, inplace=True)\n",
    "perc = perc.drop_duplicates()\n",
    "perc = perc[(perc['Year_of_Release'].astype('float')>=1990.0) & (perc['Year_of_Release'].astype('float')<=2020.0)]\n",
    "perc = perc.sort_values(\"Year_of_Release\",ascending = False)\n",
    "perc = perc.loc[perc['Marca'].isin(top_marcas)]\n",
    "perc = perc.sort_values(\"Year_of_Release\")\n",
    "fig=px.bar(perc,x='Marca', y=\"total_sales\", animation_frame=\"Year_of_Release\", \n",
    "           animation_group=\"Marca\", color=\"Marca\", hover_name=\"Marca\")\n",
    "fig.show()"
   ]
  },
  {
   "cell_type": "code",
   "execution_count": null,
   "metadata": {},
   "outputs": [],
   "source": []
  },
  {
   "cell_type": "code",
   "execution_count": null,
   "metadata": {},
   "outputs": [],
   "source": [
    "df_temp_marca = df.dropna()\n",
    "df_temp = df_temp_marca.drop(['Name', 'Marca'], axis=1).reset_index()"
   ]
  },
  {
   "cell_type": "code",
   "execution_count": null,
   "metadata": {},
   "outputs": [],
   "source": [
    "df_cluster = pd.get_dummies(df_temp)"
   ]
  },
  {
   "cell_type": "code",
   "execution_count": null,
   "metadata": {},
   "outputs": [],
   "source": [
    "dim_reduc = dim_reduc = make_pipeline(PCA(n_components=60), \n",
    "                          TSNE(n_components=2, perplexity=30))"
   ]
  },
  {
   "cell_type": "code",
   "execution_count": null,
   "metadata": {},
   "outputs": [],
   "source": [
    "new_features = dim_reduc.fit_transform(df_cluster)"
   ]
  },
  {
   "cell_type": "code",
   "execution_count": null,
   "metadata": {},
   "outputs": [],
   "source": [
    "np.array(df_temp_marca.Marca)"
   ]
  },
  {
   "cell_type": "code",
   "execution_count": null,
   "metadata": {},
   "outputs": [],
   "source": [
    "len(new_features)"
   ]
  },
  {
   "cell_type": "code",
   "execution_count": null,
   "metadata": {},
   "outputs": [],
   "source": [
    "df_temp_marca['Marca'] = df_temp_marca.Marca.astype('category')"
   ]
  },
  {
   "cell_type": "code",
   "execution_count": null,
   "metadata": {},
   "outputs": [],
   "source": [
    "df_temp_marca['Marca2'] = df_temp_marca['Marca'].cat.codes"
   ]
  },
  {
   "cell_type": "code",
   "execution_count": null,
   "metadata": {},
   "outputs": [],
   "source": []
  },
  {
   "cell_type": "code",
   "execution_count": null,
   "metadata": {},
   "outputs": [],
   "source": [
    "fig3, ax3 = plt.subplots()\n",
    "scatter3 = ax3.scatter(new_features[:, 0], new_features[:, 1], s=3, c=np.array(df_temp_marca['Marca2']), cmap='tab10')\n",
    "ax3.legend(scatter3.legend_elements()[0], [classes[i] for i in range(4)], bbox_to_anchor=(1.22, 1), fontsize='large')\n",
    "fig3.set_size_inches(10, 10)"
   ]
  },
  {
   "cell_type": "code",
   "execution_count": null,
   "metadata": {},
   "outputs": [],
   "source": [
    "dbscan = DBSCAN(eps=5, min_samples=15)\n",
    "clusters = dbscan.fit_predict(df_cluster)"
   ]
  },
  {
   "cell_type": "code",
   "execution_count": null,
   "metadata": {},
   "outputs": [],
   "source": [
    "fig4, ax4 = plt.subplots()\n",
    "scatter4 = ax4.scatter(new_features[:, 0], new_features[:, 1], s=3, c=clusters, cmap='tab10')\n",
    "ax4.legend(*scatter4.legend_elements(), bbox_to_anchor=(1.22, 1), fontsize='large')\n",
    "fig4.set_size_inches(10, 10)"
   ]
  },
  {
   "cell_type": "code",
   "execution_count": null,
   "metadata": {},
   "outputs": [],
   "source": []
  },
  {
   "cell_type": "code",
   "execution_count": null,
   "metadata": {},
   "outputs": [],
   "source": [
    "new_features = pd.get_dummies(df_resumido[['Platform', 'Year_of_Release', 'Genre', 'Publisher', 'NA_Sales',\n",
    "       'EU_Sales', 'JP_Sales', 'Other_Sales', 'Global_Sales', 'Critic_Score',\n",
    "       'Critic_Count', 'User_Score', 'User_Count', 'Developer', 'Rating', 'Marca']])"
   ]
  },
  {
   "cell_type": "code",
   "execution_count": null,
   "metadata": {},
   "outputs": [],
   "source": [
    "new_features = new_features.fillna(0)"
   ]
  },
  {
   "cell_type": "code",
   "execution_count": null,
   "metadata": {},
   "outputs": [],
   "source": [
    "kmeans = KMeans(n_clusters=4)\n",
    "clusters_kmeans = kmeans.fit_predict(new_features)"
   ]
  },
  {
   "cell_type": "code",
   "execution_count": null,
   "metadata": {},
   "outputs": [],
   "source": [
    "pca = PCA(n_components=2)\n",
    "pca_features = pd.DataFrame(pca.fit_transform(new_features))"
   ]
  },
  {
   "cell_type": "code",
   "execution_count": null,
   "metadata": {},
   "outputs": [],
   "source": [
    "pca_features.iloc[:, 1]"
   ]
  },
  {
   "cell_type": "code",
   "execution_count": null,
   "metadata": {},
   "outputs": [],
   "source": [
    "fig4, ax4 = plt.subplots()\n",
    "scatter4 = ax4.scatter(pca_features.iloc[:, 0], pca_features.iloc[:, 1], s=3, c=clusters_kmeans, cmap='tab10')\n",
    "ax4.legend(*scatter4.legend_elements(), bbox_to_anchor=(1.22, 1), fontsize='large')\n",
    "fig4.set_size_inches(10, 10)"
   ]
  },
  {
   "cell_type": "code",
   "execution_count": null,
   "metadata": {},
   "outputs": [],
   "source": [
    "new_features.loc[:, 'Global_Sales']"
   ]
  },
  {
   "cell_type": "code",
   "execution_count": null,
   "metadata": {},
   "outputs": [],
   "source": [
    "from apyori import apriori"
   ]
  },
  {
   "cell_type": "code",
   "execution_count": null,
   "metadata": {},
   "outputs": [],
   "source": [
    "rules = apriori(new_features, min_support = 0.003, \n",
    "                min_confidence = 0.2, min_lift = 3, min_length = 2)"
   ]
  },
  {
   "cell_type": "code",
   "execution_count": null,
   "metadata": {},
   "outputs": [],
   "source": [
    "results = list(rules)"
   ]
  },
  {
   "cell_type": "code",
   "execution_count": null,
   "metadata": {},
   "outputs": [],
   "source": []
  },
  {
   "cell_type": "code",
   "execution_count": null,
   "metadata": {},
   "outputs": [],
   "source": [
    "# DF con el quantile 99"
   ]
  },
  {
   "cell_type": "code",
   "execution_count": null,
   "metadata": {},
   "outputs": [],
   "source": [
    "labels_chart = ['Genre', 'Rating', 'Platform']"
   ]
  },
  {
   "cell_type": "code",
   "execution_count": null,
   "metadata": {},
   "outputs": [],
   "source": [
    "df_resumido = df[df['Global_Sales'] < 6]"
   ]
  },
  {
   "cell_type": "code",
   "execution_count": null,
   "metadata": {},
   "outputs": [],
   "source": [
    "for x in labels_chart:\n",
    "    plt.figure(figsize=(12,6))\n",
    "    sns.boxplot(x=x, y='Global_Sales', data=df_resumido)\n",
    "    plt.title('')\n",
    "    plt.show()"
   ]
  },
  {
   "cell_type": "code",
   "execution_count": null,
   "metadata": {},
   "outputs": [],
   "source": [
    "plt.figure(figsize=(12,6))\n",
    "sns.kdeplot(df_resumido['JP_Sales'], shade=True, label=\"JP_sales\", color='b')\n",
    "sns.kdeplot(df_resumido['NA_Sales'], shade=True, label=\"NA_sales\", color='r')\n",
    "sns.kdeplot(df_resumido['EU_Sales'], shade=True, label=\"EU_sales\", color='g')\n",
    "sns.kdeplot(df_resumido['Other_Sales'], shade=True, label=\"Other_sales\", color='y')\n",
    "plt.title('')"
   ]
  },
  {
   "cell_type": "code",
   "execution_count": null,
   "metadata": {},
   "outputs": [],
   "source": []
  },
  {
   "cell_type": "code",
   "execution_count": null,
   "metadata": {},
   "outputs": [],
   "source": [
    "df_calificacion.corr()"
   ]
  },
  {
   "cell_type": "code",
   "execution_count": null,
   "metadata": {},
   "outputs": [],
   "source": [
    "plt.figure()\n",
    "plt.scatter(x='Year_of_Release', y='Global_Sales', data=df_calificacion, label=\"s\")"
   ]
  },
  {
   "cell_type": "code",
   "execution_count": null,
   "metadata": {},
   "outputs": [],
   "source": [
    "anho_plataforma = df.groupby(['Year_of_Release', 'Platform']).agg({'Global_Sales':'sum', 'NA_Sales':'sum', 'EU_Sales':'sum', 'JP_Sales':'sum', 'Other_Sales':'sum'}).reset_index()"
   ]
  },
  {
   "cell_type": "code",
   "execution_count": null,
   "metadata": {},
   "outputs": [],
   "source": [
    "ultimos_anhos = anho_plataforma[(anho_plataforma['Year_of_Release']>2005)]"
   ]
  },
  {
   "cell_type": "code",
   "execution_count": null,
   "metadata": {},
   "outputs": [],
   "source": [
    "plt.figure(figsize=(16, 6))\n",
    "for i, j in enumerate(plataforma_color_simbolo):\n",
    "    plt.plot(ultimos_anhos.Year_of_Release[anho_plataforma['Platform']==j[0]], \n",
    "             ultimos_anhos.Global_Sales[anho_plataforma['Platform']==j[0]], \n",
    "             color=j[1], linestyle=j[2], label=j[0]\n",
    "            )\n",
    "    \n",
    "plt.legend(['X360', 'XOne', 'XB', 'PS', 'PS2', 'PS3', 'PS4'])\n",
    "plt.title('Ventas globales por plataforma')    \n",
    "plt.show"
   ]
  },
  {
   "cell_type": "code",
   "execution_count": null,
   "metadata": {},
   "outputs": [],
   "source": [
    "plt.figure(figsize=(16, 8))\n",
    "for i, j in enumerate(plataforma_color_simbolo):\n",
    "    plt.plot(ultimos_anhos.Year_of_Release[anho_plataforma['Platform']==j[0]], \n",
    "             ultimos_anhos.NA_Sales[anho_plataforma['Platform']==j[0]], \n",
    "             color=j[1], linestyle=j[2], label= j[0]\n",
    "            )\n",
    "\n",
    "plt.legend(['X360', 'XOne', 'XB', 'PS', 'PS2', 'PS3', 'PS4'])\n",
    "plt.title('Ventas Norte America por plataforma')    \n",
    "plt.show"
   ]
  },
  {
   "cell_type": "code",
   "execution_count": null,
   "metadata": {},
   "outputs": [],
   "source": [
    "plt.figure(figsize=(16, 6))\n",
    "for i, j in enumerate(plataforma_color_simbolo):\n",
    "    plt.plot(ultimos_anhos.Year_of_Release[anho_plataforma['Platform']==j[0]], \n",
    "             ultimos_anhos.EU_Sales[anho_plataforma['Platform']==j[0]], \n",
    "             color=j[1], linestyle=j[2], label=j[0]\n",
    "            )\n",
    "\n",
    "plt.legend(['X360', 'XOne', 'XB', 'PS', 'PS2', 'PS3', 'PS4'])\n",
    "plt.title('Ventas Europa por plataforma')    \n",
    "plt.show"
   ]
  },
  {
   "cell_type": "code",
   "execution_count": null,
   "metadata": {},
   "outputs": [],
   "source": []
  },
  {
   "cell_type": "code",
   "execution_count": null,
   "metadata": {},
   "outputs": [],
   "source": [
    "forest = RandomForestRegressor(n_estimators=100,\n",
    "                              max_depth=50,\n",
    "                              min_samples_leaf=10)"
   ]
  },
  {
   "cell_type": "code",
   "execution_count": null,
   "metadata": {},
   "outputs": [],
   "source": [
    "forest.fit(X_train, y_train)"
   ]
  },
  {
   "cell_type": "code",
   "execution_count": null,
   "metadata": {},
   "outputs": [],
   "source": [
    "y_pred_forest = regr.predict(X_test)"
   ]
  },
  {
   "cell_type": "code",
   "execution_count": null,
   "metadata": {},
   "outputs": [],
   "source": [
    "print('Mean Absolute Error:', mean_absolute_error(y_test\n",
    "                                                  , y_pred_forest))\n",
    "print('Mean Squared Error:', mean_squared_error(y_test, y_pred_forest))\n",
    "print('Root Mean Squared Error:', np.sqrt(mean_squared_error(y_test, y_pred_forest)))\n",
    "print('R-squared score (training): {:.3f}'\n",
    " .format(forest.score(X_train, y_train)))\n",
    "print('R-squared score (test): {:.3f}\\n'\n",
    " .format(forest.score(X_test, y_test)))"
   ]
  },
  {
   "cell_type": "code",
   "execution_count": null,
   "metadata": {},
   "outputs": [],
   "source": []
  },
  {
   "cell_type": "code",
   "execution_count": null,
   "metadata": {},
   "outputs": [],
   "source": [
    "plt.figure(figsize=(16, 6))\n",
    "for i, j in enumerate(plataforma_color_simbolo):\n",
    "    plt.plot(ultimos_anhos.Year_of_Release[anho_plataforma['Platform']==j[0]], \n",
    "             ultimos_anhos.JP_Sales[anho_plataforma['Platform']==j[0]], \n",
    "             color=j[1], linestyle=j[2], label=j[0]\n",
    "            )\n",
    "\n",
    "plt.legend(['X360', 'XOne', 'XB', 'PS', 'PS2', 'PS3', 'PS4'])\n",
    "plt.title('Ventas Japon por plataforma')    \n",
    "plt.show"
   ]
  },
  {
   "cell_type": "code",
   "execution_count": null,
   "metadata": {},
   "outputs": [],
   "source": [
    "plt.figure(figsize=(16, 6))\n",
    "for i, j in enumerate(plataforma_color_simbolo):\n",
    "    plt.plot(ultimos_anhos.Year_of_Release[anho_plataforma['Platform']==j[0]], \n",
    "             ultimos_anhos.Other_Sales[anho_plataforma['Platform']==j[0]], \n",
    "             color=j[1], linestyle=j[2], label=j[0]\n",
    "            )\n",
    "\n",
    "plt.legend(['X360', 'XOne', 'XB', 'PS', 'PS2', 'PS3', 'PS4'])\n",
    "plt.title('Ventas Otros paises por plataforma')    \n",
    "plt.show"
   ]
  },
  {
   "cell_type": "code",
   "execution_count": null,
   "metadata": {},
   "outputs": [],
   "source": [
    "plt.figure(figsize=(12,6))\n",
    "sns.kdeplot(df['Global_Sales'], shade=True)\n",
    "plt.title('')\n",
    "plt.xlabel('Global Sales')"
   ]
  },
  {
   "cell_type": "code",
   "execution_count": null,
   "metadata": {},
   "outputs": [],
   "source": [
    "# Por marca"
   ]
  },
  {
   "cell_type": "code",
   "execution_count": null,
   "metadata": {},
   "outputs": [],
   "source": [
    "anho_marca = df.groupby(['Year_of_Release', 'Marca']).agg({'Global_Sales':'sum', 'NA_Sales':'sum', 'EU_Sales':'sum', 'JP_Sales':'sum', 'Other_Sales':'sum'}).reset_index()"
   ]
  },
  {
   "cell_type": "code",
   "execution_count": null,
   "metadata": {},
   "outputs": [],
   "source": [
    "marca_color_simbolo = [['PC', 'b', '--'], \n",
    "                            ['Xbox', 'g', '-'],\n",
    "                            ['Nintendo', 'c', '-.'],\n",
    "                            ['PlayStation', 'm', ':'],\n",
    "                            ['Atari', 'r', 'dashdot'],\n",
    "                            ['SEGA', 'y', 'dotted'],\n",
    "                            ['Otros', 'k', '-'],]"
   ]
  },
  {
   "cell_type": "code",
   "execution_count": null,
   "metadata": {},
   "outputs": [],
   "source": [
    "plt.figure(figsize=(16, 6))\n",
    "for i, j in enumerate(marca_color_simbolo):\n",
    "    plt.plot(anho_marca.Year_of_Release[anho_marca['Marca']==j[0]], \n",
    "             anho_marca.Global_Sales[anho_marca['Marca']==j[0]], \n",
    "             color=j[1], linestyle=j[2], label=j[0]\n",
    "            )\n",
    "\n",
    "plt.legend(['PC', 'Xbox', 'Nintendo', 'PlayStation', 'Atari', 'SEGA', 'Otros'])\n",
    "plt.title('Ventas globales por Marca')    \n",
    "plt.show"
   ]
  },
  {
   "cell_type": "code",
   "execution_count": null,
   "metadata": {},
   "outputs": [],
   "source": [
    "agrupado = df.groupby(['Year_of_Release' ]).agg({'Name':'count', 'Critic_Score':'count', 'Critic_Count':'count', 'User_Score':'count', 'User_Count':'count', 'Developer':'count', 'Rating':'count'}).reset_index()"
   ]
  },
  {
   "cell_type": "code",
   "execution_count": null,
   "metadata": {},
   "outputs": [],
   "source": []
  },
  {
   "cell_type": "code",
   "execution_count": null,
   "metadata": {},
   "outputs": [],
   "source": []
  },
  {
   "cell_type": "code",
   "execution_count": null,
   "metadata": {},
   "outputs": [],
   "source": []
  },
  {
   "cell_type": "code",
   "execution_count": null,
   "metadata": {},
   "outputs": [],
   "source": []
  }
 ],
 "metadata": {
  "kernelspec": {
   "display_name": "Python 3",
   "language": "python",
   "name": "python3"
  },
  "language_info": {
   "codemirror_mode": {
    "name": "ipython",
    "version": 3
   },
   "file_extension": ".py",
   "mimetype": "text/x-python",
   "name": "python",
   "nbconvert_exporter": "python",
   "pygments_lexer": "ipython3",
   "version": "3.8.5"
  }
 },
 "nbformat": 4,
 "nbformat_minor": 4
}
